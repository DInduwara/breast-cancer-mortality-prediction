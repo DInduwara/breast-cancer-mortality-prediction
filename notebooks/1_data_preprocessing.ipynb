{
 "cells": [
  {
   "cell_type": "markdown",
   "id": "c02ac212",
   "metadata": {},
   "source": [
    "**Python Notebook 1: Data Understanding and Preprocessing**\n",
    "\n",
    "**Author:** Dinuka Induwara,\n",
    "\n",
    "---\n",
    "This notebook focuses on data understanding and preprocessing for the breast cancer dataset as per the coursework requirments. In this notebook we created two separate datasets for classification and regression for cancer mortality status and cancer survial months.\n"
   ]
  },
  {
   "cell_type": "code",
   "execution_count": null,
   "id": "0ae1e367",
   "metadata": {
    "vscode": {
     "languageId": "plaintext"
    }
   },
   "outputs": [],
   "source": [
    "# 1. IMPORT LIBRARIES\n",
    "import pandas as pd\n",
    "import numpy as np\n",
    "import os\n",
    "\n",
    "from sklearn.impute import SimpleImputer\n",
    "from sklearn.preprocessing import LabelEncoder, StandardScaler\n",
    "import matplotlib.pyplot as plt\n",
    "import plotly.express as px\n",
    "\n",
    "# Set pandas options\n",
    "pd.set_option('display.max_columns', 100)\n",
    "pd.set_option('display.width', 180)\n"
   ]
  },
  {
   "cell_type": "code",
   "execution_count": null,
   "id": "c09fcd5a",
   "metadata": {
    "vscode": {
     "languageId": "plaintext"
    }
   },
   "outputs": [],
   "source": [
    "# 2. LOAD RAW DATA\n",
    "data_path = '../data/raw/breast_cancer.csv'  # Make sure this file is here\n",
    "df = pd.read_csv(data_path)\n",
    "df.head()\n"
   ]
  },
  {
   "cell_type": "code",
   "execution_count": null,
   "id": "2969004f",
   "metadata": {
    "vscode": {
     "languageId": "plaintext"
    }
   },
   "outputs": [],
   "source": [
    "# 3. INITIAL INSPECTION\n",
    "print(\"Columns:\", list(df.columns))\n",
    "print(\"\\nData Info:\")\n",
    "df.info()\n",
    "\n",
    "print(\"\\nMissing Values (%):\")\n",
    "print(df.isna().sum() / len(df) * 100)\n",
    "\n",
    "print(\"\\nTarget Distribution:\")\n",
    "print(df['Mortality_Status'].value_counts())\n",
    "fig = px.bar(df, x='Mortality_Status', title='Distribution of Mortality Status')\n",
    "fig.show()\n"
   ]
  },
  {
   "cell_type": "code",
   "execution_count": null,
   "id": "9c3f3450",
   "metadata": {
    "vscode": {
     "languageId": "plaintext"
    }
   },
   "outputs": [],
   "source": [
    "# 4. IMPUTATION\n",
    "imputer = SimpleImputer(strategy='median')\n",
    "df_imputed = pd.DataFrame(imputer.fit_transform(df), columns=df.columns)\n",
    "\n",
    "print(\"Remaining Missing (%):\")\n",
    "print(df_imputed.isna().sum() / len(df_imputed) * 100)\n"
   ]
  },
  {
   "cell_type": "code",
   "execution_count": null,
   "id": "d77d4b0c",
   "metadata": {
    "vscode": {
     "languageId": "plaintext"
    }
   },
   "outputs": [],
   "source": [
    "# 5. ENCODING CATEGORICAL COLUMNS\n",
    "categorical_cols = ['Sex', 'T_Stage', 'N_Stage', '6th_Stage', 'Differentiated', 'Grade', 'A_Stage',\n",
    "                    'Estrogen_Status', 'Progesterone_Status']\n",
    "label_encoders = {}\n",
    "\n",
    "for col in categorical_cols:\n",
    "    le = LabelEncoder()\n",
    "    df_imputed[col] = le.fit_transform(df_imputed[col].astype(str))\n",
    "    label_encoders[col] = le\n"
   ]
  },
  {
   "cell_type": "code",
   "execution_count": null,
   "id": "0fe6e08d",
   "metadata": {
    "vscode": {
     "languageId": "plaintext"
    }
   },
   "outputs": [],
   "source": [
    "# 6. SCALING NUMERICAL FEATURES\n",
    "numerical_cols = ['Age', 'Tumor_Size', 'Regional_Node_Examined', 'Regional_Node_Positive']\n",
    "scaler = StandardScaler()\n",
    "df_imputed[numerical_cols] = scaler.fit_transform(df_imputed[numerical_cols])\n"
   ]
  },
  {
   "cell_type": "code",
   "execution_count": null,
   "id": "7c383c59",
   "metadata": {
    "vscode": {
     "languageId": "plaintext"
    }
   },
   "outputs": [],
   "source": [
    "# 7. SAVE CLASSIFICATION & REGRESSION DATASETS\n",
    "classification_data_path = '../data/processed/Prepared_Breast_Cancer_Classification.csv'\n",
    "regression_data_path = '../data/processed/Prepared_Breast_Cancer_Regression.csv'\n",
    "\n",
    "# Save for classification (drop rows with missing target)\n",
    "df_imputed.to_csv(classification_data_path, index=False)\n",
    "\n",
    "# Save for regression if needed (optional)\n",
    "if 'Survival_Months' in df_imputed.columns:\n",
    "    df_reg = df_imputed.dropna(subset=['Survival_Months'])\n",
    "    df_reg.to_csv(regression_data_path, index=False)\n"
   ]
  }
 ],
 "metadata": {
  "language_info": {
   "name": "python"
  }
 },
 "nbformat": 4,
 "nbformat_minor": 5
}

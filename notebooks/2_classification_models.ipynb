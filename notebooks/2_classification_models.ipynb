{
 "cells": [
  {
   "cell_type": "markdown",
   "id": "0af690fe",
   "metadata": {},
   "source": [
    "**Final Python Notebook 2: Classification Modelling for Breast Cancer Mortality Prediction**\n",
    "\n",
    "**Author :** Dinuka Induwara\n",
    "\n",
    "---\n",
    "This notebook focuses on building and evaluating classification models to predict Mortality Status(dead or alive) using the prepared breast cancer classification dataset from Final Python Notebook 1. It implement 3 models, Naive Bayes(NB), Logistic Regression(LR), and k-Nearest Neighbors(kNN)."
   ]
  },
  {
   "cell_type": "markdown",
   "id": "1555af4c",
   "metadata": {},
   "source": [
    "**Importing required libraries**\n",
    "\n",
    "---\n",
    "This cell imports libraries for data handling, model building, evaluation and visualization."
   ]
  },
  {
   "cell_type": "code",
   "execution_count": null,
   "id": "15c9f60a",
   "metadata": {},
   "outputs": [],
   "source": [
    "import pandas as pd\n",
    "import numpy as np\n",
    "import matplotlib.pyplot as plt\n",
    "from sklearn.model_selection import train_test_split\n",
    "from sklearn.preprocessing import StandardScaler\n",
    "from sklearn.naive_bayes import GaussianNB\n",
    "from sklearn.linear_model import LogisticRegression\n",
    "from sklearn.neighbors import KNeighborsClassifier\n",
    "from sklearn.model_selection import GridSearchCV\n",
    "from sklearn.metrics import confusion_matrix, ConfusionMatrixDisplay\n",
    "from sklearn.metrics import classification_report\n",
    "from sklearn.metrics import RocCurveDisplay\n",
    "from sklearn.impute import SimpleImputer\n",
    "import plotly.express as px\n",
    "\n",
    "# Set pandas display options to avoid truncation\n",
    "pd.set_option('display.max_rows', 200)\n",
    "pd.set_option('display.max_columns', 200)\n",
    "pd.set_option('display.width', 200)\n",
    "pd.set_option('display.float_format', '{:.2f}'.format)\n"
   ]
  }
 ],
 "metadata": {
  "language_info": {
   "name": "python"
  }
 },
 "nbformat": 4,
 "nbformat_minor": 5
}
